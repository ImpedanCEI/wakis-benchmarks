{
 "cells": [
  {
   "cell_type": "markdown",
   "metadata": {},
   "source": [
    "# Tests with `cadquery`"
   ]
  },
  {
   "cell_type": "code",
   "execution_count": null,
   "metadata": {},
   "outputs": [],
   "source": [
    "import cadquery as cq"
   ]
  },
  {
   "cell_type": "code",
   "execution_count": null,
   "metadata": {},
   "outputs": [],
   "source": [
    "step_file = 'Stage5_704MHz_cavity.stp'\n",
    "result = cq.importers.importStep(\"009_muCol_cavity_beta/cst/\" + step_file)"
   ]
  },
  {
   "cell_type": "code",
   "execution_count": null,
   "metadata": {},
   "outputs": [],
   "source": [
    "display(result)"
   ]
  },
  {
   "cell_type": "code",
   "execution_count": null,
   "metadata": {},
   "outputs": [],
   "source": [
    "import numpy as np\n",
    "import re\n",
    "\n",
    "def extract_solid_names_and_materials(stp_file):\n",
    "    # Load file lines as an array of strings\n",
    "    lines = np.genfromtxt(stp_file, dtype=str, delimiter=\"\\n\", encoding=\"utf-8\", comments=None)\n",
    "\n",
    "    solid_dict = {}\n",
    "    material_dict = {}\n",
    "\n",
    "    # Regex patterns\n",
    "    solid_pattern = re.compile(r\"#(\\d+)=MANIFOLD_SOLID_BREP\\('([^']+)'.*;\")\n",
    "    material_pattern = re.compile(r\"#(\\d+)=PRESENTATION_LAYER_ASSIGNMENT\\('([^']+)','[^']+',\\(#([\\d#,]+)\\)\\);\")\n",
    "\n",
    "    # Extract solids\n",
    "    for line in lines:\n",
    "        solid_match = solid_pattern.search(line)\n",
    "        if solid_match:\n",
    "            solid_number = int(solid_match.group(1))\n",
    "            solid_name = solid_match.group(2)\n",
    "            solid_dict[solid_number] = solid_name\n",
    "\n",
    "    # Extract materials\n",
    "    for line in lines:\n",
    "        material_match = material_pattern.search(line)\n",
    "        if material_match:\n",
    "            material_name = material_match.group(2)\n",
    "            solid_numbers = [int(num.strip(\"#\")) for num in material_match.group(3).split(',')] # Extract numbers as a list\n",
    "            \n",
    "            for solid_number in solid_numbers:\n",
    "                if solid_number in solid_dict:  # Only assign if it's a known solid\n",
    "                    material_dict[solid_number] = material_name\n",
    "\n",
    "    return solid_dict, material_dict\n",
    "\n",
    "# Example usage\n",
    "stp_file = \"009_muCol_cavity_beta/cst/Stage5_704MHz_cavity.stp\"\n",
    "solids, materials = extract_solid_names_and_materials(stp_file)\n",
    "\n",
    "# Print results\n",
    "print(\"Solids:\", solids)\n",
    "print(\"Materials:\", materials)\n"
   ]
  },
  {
   "cell_type": "code",
   "execution_count": null,
   "metadata": {},
   "outputs": [],
   "source": [
    "# Save each object in STL file\n",
    "stp_file = \"009_muCol_cavity_beta/cst/Stage5_704MHz_cavity.stp\"\n",
    "solids, materials = extract_solid_names_and_materials(stp_file)\n",
    "\n",
    "for i, obj in enumerate(result.objects[0]):\n",
    "    solid = solids[list(solids.keys())[i]].strip(' ')\n",
    "    mat = materials[list(solids.keys())[i]].strip(' ')\n",
    "\n",
    "    solid = re.sub(r'[^a-zA-Z0-9_-]', '-', solid)\n",
    "    mat = re.sub(r'[^a-zA-Z0-9_-]', '-', mat)\n",
    "\n",
    "    print(f'{str(i).zfill(3)}_{solid}_{mat}'+\".stl\")\n",
    "    obj.exportStl('009_muCol_cavity_beta/cst/'+f'{str(i).zfill(3)}_{solid}_{mat}'+\".stl\") \n",
    "    #obj.exportStl('009_muCol_cavity_beta/cst/'+str(i)+\".stl\") \n",
    "    #display(obj)"
   ]
  },
  {
   "cell_type": "code",
   "execution_count": null,
   "metadata": {},
   "outputs": [],
   "source": [
    "# Create a sample assembly\n",
    "assy = cq.Assembly()\n",
    "body = cq.Workplane().box(10, 10, 10)\n",
    "assy.add(body, color=cq.Color(1, 0, 0), name=\"body\")\n",
    "pin = cq.Workplane().center(2, 2).cylinder(radius=2, height=20)\n",
    "assy.add(pin, color=cq.Color(0, 1, 0), name=\"pin\")"
   ]
  },
  {
   "cell_type": "code",
   "execution_count": null,
   "metadata": {},
   "outputs": [],
   "source": [
    "# Save the assembly to STEP\n",
    "assy.export(\"out.stp\", \"STEP\", mode=\"fused\", glue=True, write_pcurves=False)"
   ]
  },
  {
   "cell_type": "code",
   "execution_count": null,
   "metadata": {},
   "outputs": [],
   "source": [
    "out = cq.importers.importStep('out.stp')"
   ]
  },
  {
   "cell_type": "code",
   "execution_count": null,
   "metadata": {},
   "outputs": [],
   "source": [
    "display(out)"
   ]
  },
  {
   "cell_type": "markdown",
   "metadata": {},
   "source": [
    "# Tests with `trimesh`"
   ]
  },
  {
   "cell_type": "code",
   "execution_count": null,
   "metadata": {},
   "outputs": [],
   "source": [
    "import cascadio\n",
    "import trimesh"
   ]
  },
  {
   "cell_type": "code",
   "execution_count": null,
   "metadata": {},
   "outputs": [],
   "source": [
    "cascadio.step_to_obj(\n",
    "            'out.stp',\n",
    "            'out.obj',\n",
    "            use_colors=True,\n",
    "        )"
   ]
  },
  {
   "cell_type": "code",
   "execution_count": null,
   "metadata": {},
   "outputs": [],
   "source": [
    "mesh = trimesh.load('out.obj', merge_primitives=True)"
   ]
  },
  {
   "cell_type": "code",
   "execution_count": null,
   "metadata": {},
   "outputs": [],
   "source": [
    "mesh.show()"
   ]
  },
  {
   "cell_type": "code",
   "execution_count": null,
   "metadata": {},
   "outputs": [],
   "source": [
    "import pyvista as pv\n",
    "out = pv.read('out.obj')"
   ]
  },
  {
   "cell_type": "code",
   "execution_count": null,
   "metadata": {},
   "outputs": [],
   "source": [
    "out.plot()"
   ]
  },
  {
   "cell_type": "code",
   "execution_count": null,
   "metadata": {},
   "outputs": [],
   "source": [
    "pl = pv.Plotter()\n",
    "pl.add_mesh(out, scalars='mat_1')\n",
    "pl.show()"
   ]
  },
  {
   "cell_type": "code",
   "execution_count": null,
   "metadata": {},
   "outputs": [],
   "source": []
  },
  {
   "cell_type": "markdown",
   "metadata": {},
   "source": [
    "# Final tests with wakis funcs"
   ]
  },
  {
   "cell_type": "code",
   "execution_count": 1,
   "metadata": {},
   "outputs": [],
   "source": [
    "import sys \n",
    "sys.path.append('../wakis')\n",
    "\n",
    "from wakis import geometry"
   ]
  },
  {
   "cell_type": "code",
   "execution_count": 4,
   "metadata": {},
   "outputs": [
    {
     "name": "stdout",
     "output_type": "stream",
     "text": [
      "Generating stl from file: 009_muCol_cavity_beta/cst/Stage5_704MHz_cavity.stp... \n",
      "000_Vacuum-Half_cell_dx_Vacuum.stl.stl\n",
      "001_Be-windows-Be-window-left_Berillium.stl.stl\n",
      "002_Be-windows-Be-window-right_Berillium.stl.stl\n",
      "003_Walls-Cavity-walls_Copper--annealed-.stl.stl\n",
      "004_Vacuum-Half_cell_sx_Vacuum.stl.stl\n"
     ]
    }
   ],
   "source": [
    "stl_solids = geometry.generate_stl_solids_from_stp('009_muCol_cavity_beta/cst/Stage5_704MHz_cavity.stp')"
   ]
  },
  {
   "cell_type": "code",
   "execution_count": 3,
   "metadata": {},
   "outputs": [],
   "source": [
    "import numpy as np\n",
    "import re\n",
    "\n",
    "def extract_solid_colors(stp_file):\n",
    "    \"\"\"\n",
    "    Extracts the color (RGB values) assigned to each solid in a STEP (STP) file.\n",
    "\n",
    "    Args:\n",
    "        stp_file (str): Path to the STP file.\n",
    "\n",
    "    Returns:\n",
    "        dict: A dictionary where keys are solid names, and values are (R, G, B) tuples.\n",
    "    \"\"\"\n",
    "\n",
    "    # Load file lines as an array of strings\n",
    "    lines = np.genfromtxt(stp_file, dtype=str, delimiter=\"\\n\", encoding=\"utf-8\", comments=None)\n",
    "\n",
    "    # Dictionaries to store parsed data\n",
    "    solid_dict = {}  # {solid_id: solid_name}\n",
    "    color_dict = {}  # {color_id: (R, G, B)}\n",
    "    solid_color_map = {}  # {solid_name: (R, G, B)}\n",
    "\n",
    "    # Regular expressions for each component\n",
    "    solid_pattern = re.compile(r\"#(\\d+)=MANIFOLD_SOLID_BREP\\('([^']+)'.*;\")\n",
    "    style_pattern = re.compile(r\"#(\\d+)=STYLED_ITEM\\('?',\\(#(\\d+)\\),#(\\d+)\\);\")\n",
    "    assignment_pattern = re.compile(r\"#(\\d+)=PRESENTATION_STYLE_ASSIGNMENT\\(\\(#(\\d+)\\)\\);\")\n",
    "    rendering_pattern = re.compile(r\"#(\\d+)=SURFACE_STYLE_RENDERING\\(#(\\d+),.*\\);\")\n",
    "    color_pattern = re.compile(r\"#(\\d+)=COLOUR_RGB\\('?',([\\d.]+),([\\d.]+),([\\d.]+)\\);\")\n",
    "\n",
    "    # Step 1: Extract Solids\n",
    "    for line in lines:\n",
    "        solid_match = solid_pattern.search(line)\n",
    "        if solid_match:\n",
    "            solid_id = int(solid_match.group(1))\n",
    "            solid_name = solid_match.group(2)\n",
    "            solid_dict[solid_id] = solid_name\n",
    "\n",
    "    # Step 2: Extract Color References from STYLED_ITEM\n",
    "    styled_map = {}  # {solid_id: style_id}\n",
    "    for line in lines:\n",
    "        style_match = style_pattern.search(line)\n",
    "        if style_match:\n",
    "            style_id = int(style_match.group(2))\n",
    "            solid_id = int(style_match.group(3))\n",
    "            styled_map[solid_id] = style_id\n",
    "\n",
    "    # Step 3: Extract Style Assignments\n",
    "    style_map = {}  # {style_id: rendering_id}\n",
    "    for line in lines:\n",
    "        assign_match = assignment_pattern.search(line)\n",
    "        if assign_match:\n",
    "            rendering_id = int(assign_match.group(2))\n",
    "            style_id = int(assign_match.group(1))\n",
    "            style_map[style_id] = rendering_id\n",
    "\n",
    "    # Step 4: Extract Rendering Assignments\n",
    "    rendering_map = {}  # {rendering_id: color_id}\n",
    "    for line in lines:\n",
    "        render_match = rendering_pattern.search(line)\n",
    "        if render_match:\n",
    "            rendering_id = int(render_match.group(1))\n",
    "            color_id = int(render_match.group(2))\n",
    "            rendering_map[rendering_id] = color_id\n",
    "\n",
    "    # Step 5: Extract Colors\n",
    "    for line in lines:\n",
    "        color_match = color_pattern.search(line)\n",
    "        if color_match:\n",
    "            color_id = int(color_match.group(1))\n",
    "            r, g, b = float(color_match.group(2)), float(color_match.group(3)), float(color_match.group(4))\n",
    "            color_dict[color_id] = (r, g, b)\n",
    "\n",
    "    # Step 6: Map Solids to Colors\n",
    "    for solid_id, solid_name in solid_dict.items():\n",
    "        if solid_id in styled_map:\n",
    "            style_id = styled_map[solid_id]\n",
    "            if style_id in style_map:\n",
    "                rendering_id = style_map[style_id]\n",
    "                if rendering_id in rendering_map:\n",
    "                    color_id = rendering_map[rendering_id]\n",
    "                    if color_id in color_dict:\n",
    "                        solid_color_map[solid_name] = color_dict[color_id]\n",
    "\n",
    "    return solid_color_map\n",
    "\n",
    "# Example usage\n",
    "stp_file = \"009_muCol_cavity_beta/cst/Stage5_704MHz_cavity.stp\"\n",
    "solid_colors = extract_solid_colors(stp_file)\n",
    "\n",
    "# Print results\n",
    "for solid, color in solid_colors.items():\n",
    "    print(f\"Solid: {solid}, Color: {color}\")"
   ]
  },
  {
   "cell_type": "code",
   "execution_count": 6,
   "metadata": {},
   "outputs": [
    {
     "data": {
      "text/plain": [
       "{}"
      ]
     },
     "execution_count": 6,
     "metadata": {},
     "output_type": "execute_result"
    }
   ],
   "source": [
    "solid_colors"
   ]
  },
  {
   "cell_type": "code",
   "execution_count": null,
   "metadata": {},
   "outputs": [],
   "source": [
    "import re\n",
    "import numpy as np\n",
    "\n",
    "def extract_solid_colors(stp_file):\n",
    "    \"\"\"\n",
    "    Extracts the color (RGB values) assigned to each solid in a STEP (STP) file.\n",
    "\n",
    "    Args:\n",
    "        stp_file (str): Path to the STP file.\n",
    "\n",
    "    Returns:\n",
    "        dict: A dictionary where keys are solid names, and values are (R, G, B) tuples.\n",
    "    \"\"\"\n",
    "\n",
    "    # Load file lines as an array of strings\n",
    "    lines = np.genfromtxt(stp_file, dtype=str, delimiter=\"\\n\", encoding=\"utf-8\", comments=None)\n",
    "\n",
    "    # Dictionaries to store parsed data\n",
    "    solid_dict = {}  # {solid_id: solid_name}\n",
    "    color_dict = {}  # {color_id: (R, G, B)}\n",
    "    solid_color_map = {}  # {solid_name: (R, G, B)}\n",
    "\n",
    "    # Regular expressions for each component\n",
    "    solid_pattern = re.compile(r\"#(\\d+)=MANIFOLD_SOLID_BREP\\('([^']+)'.*;\")\n",
    "    style_pattern = re.compile(r\"#(\\d+)=STYLED_ITEM\\('?',\\(#(\\d+)\\),#(\\d+)\\);\")\n",
    "    assignment_pattern = re.compile(r\"#(\\d+)=PRESENTATION_STYLE_ASSIGNMENT\\(\\(#(\\d+)\\)\\);\")\n",
    "    rendering_pattern = re.compile(r\"#(\\d+)=SURFACE_STYLE_RENDERING\\(#(\\d+),.*\\);\")\n",
    "    color_pattern = re.compile(r\"#(\\d+)=COLOUR_RGB\\('?',([\\d.]+),([\\d.]+),([\\d.]+)\\);\")\n",
    "\n",
    "    # Step 1: Extract Solids\n",
    "    for line in lines:\n",
    "        solid_match = solid_pattern.search(line)\n",
    "        if solid_match:\n",
    "            solid_id = int(solid_match.group(1))\n",
    "            solid_name = solid_match.group(2)\n",
    "            solid_dict[solid_id] = solid_name\n",
    "\n",
    "    print(f\"Extracted {len(solid_dict)} solids: {solid_dict}\")  # DEBUGGING\n",
    "\n",
    "    # Step 2: Extract Style Assignments\n",
    "    styled_map = {}  # {solid_id: style_id}\n",
    "    for line in lines:\n",
    "        style_match = style_pattern.search(line)\n",
    "        if style_match:\n",
    "            style_id = int(style_match.group(2))\n",
    "            solid_id = int(style_match.group(3))\n",
    "            styled_map[solid_id] = style_id\n",
    "\n",
    "    print(f\"Extracted {len(styled_map)} style assignments: {styled_map}\")  # DEBUGGING\n",
    "\n",
    "    # Step 3: Extract Style-Rendering Mapping\n",
    "    style_map = {}  # {style_id: rendering_id}\n",
    "    for line in lines:\n",
    "        assign_match = assignment_pattern.search(line)\n",
    "        if assign_match:\n",
    "            rendering_id = int(assign_match.group(2))\n",
    "            style_id = int(assign_match.group(1))\n",
    "            style_map[style_id] = rendering_id\n",
    "\n",
    "    print(f\"Extracted {len(style_map)} style-to-rendering mappings: {style_map}\")  # DEBUGGING\n",
    "\n",
    "    # Step 4: Extract Rendering-Color Mapping\n",
    "    rendering_map = {}  # {rendering_id: color_id}\n",
    "    for line in lines:\n",
    "        render_match = rendering_pattern.search(line)\n",
    "        if render_match:\n",
    "            rendering_id = int(render_match.group(1))\n",
    "            color_id = int(render_match.group(2))\n",
    "            rendering_map[rendering_id] = color_id\n",
    "\n",
    "    print(f\"Extracted {len(rendering_map)} rendering-to-color mappings: {rendering_map}\")  # DEBUGGING\n",
    "\n",
    "    # Step 5: Extract Colors\n",
    "    for line in lines:\n",
    "        color_match = color_pattern.search(line)\n",
    "        if color_match:\n",
    "            color_id = int(color_match.group(1))\n",
    "            r, g, b = float(color_match.group(2)), float(color_match.group(3)), float(color_match.group(4))\n",
    "            color_dict[color_id] = (r, g, b)\n",
    "\n",
    "    print(f\"Extracted {len(color_dict)} colors: {color_dict}\")  # DEBUGGING\n",
    "\n",
    "    # Step 6: Map Solids to Colors\n",
    "    for solid_id, solid_name in solid_dict.items():\n",
    "        if solid_id in styled_map:\n",
    "            style_id = styled_map[solid_id]\n",
    "            if style_id in style_map:\n",
    "                rendering_id = style_map[style_id]\n",
    "                if rendering_id in rendering_map:\n",
    "                    color_id = rendering_map[rendering_id]\n",
    "                    if color_id in color_dict:\n",
    "                        solid_color_map[solid_name] = color_dict[color_id]\n",
    "\n",
    "    print(f\"Final solid-to-color mapping: {solid_color_map}\")  # DEBUGGING\n",
    "\n",
    "    return solid_color_map\n",
    "\n",
    "# Example usage\n",
    "stp_file = \"009_muCol_cavity_beta/cst/Stage5_704MHz_cavity.stp\"\n",
    "solid_colors = extract_solid_colors(stp_file)\n"
   ]
  }
 ],
 "metadata": {
  "kernelspec": {
   "display_name": "base",
   "language": "python",
   "name": "python3"
  },
  "language_info": {
   "codemirror_mode": {
    "name": "ipython",
    "version": 3
   },
   "file_extension": ".py",
   "mimetype": "text/x-python",
   "name": "python",
   "nbconvert_exporter": "python",
   "pygments_lexer": "ipython3",
   "version": "3.12.8"
  }
 },
 "nbformat": 4,
 "nbformat_minor": 2
}
